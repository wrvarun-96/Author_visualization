{
  "cells": [
    {
      "cell_type": "code",
      "source": [
        "from google.colab import drive\n",
        "drive.mount('/content/drive')"
      ],
      "metadata": {
        "colab": {
          "base_uri": "https://localhost:8080/"
        },
        "id": "JvbSeDXRxkFC",
        "outputId": "bea3b1af-bf7a-48d7-b3da-4c71d8751b10"
      },
      "execution_count": null,
      "outputs": [
        {
          "output_type": "stream",
          "name": "stdout",
          "text": [
            "Drive already mounted at /content/drive; to attempt to forcibly remount, call drive.mount(\"/content/drive\", force_remount=True).\n"
          ]
        }
      ]
    },
    {
      "cell_type": "code",
      "execution_count": null,
      "metadata": {
        "colab": {
          "base_uri": "https://localhost:8080/"
        },
        "id": "iMnw_BC4TVwK",
        "outputId": "4575caef-365b-43a3-84f3-4ba8420c2fe3"
      },
      "outputs": [
        {
          "output_type": "stream",
          "name": "stdout",
          "text": [
            "Graph with 1553 nodes and 0 edges\n"
          ]
        }
      ],
      "source": [
        "import pandas as pd\n",
        "import networkx as nx\n",
        "from networkx.readwrite import json_graph\n",
        "import json\n",
        "\n",
        "def extract_country_from_affiliations(affiliations):\n",
        "    \"\"\"Extract country from the first affiliation in the given string.\"\"\"\n",
        "    first_affiliation = affiliations.split(';')[0].strip()\n",
        "    country = first_affiliation.split(',')[-1].strip()\n",
        "    return country\n",
        "\n",
        "def load_and_preprocess_data(file_path):\n",
        "    \"\"\"Load and preprocess data from the CSV file.\"\"\"\n",
        "    df = pd.read_csv(file_path)\n",
        "    return df.fillna(0).dropna(subset=['Author(s) ID', 'Year', 'Authors', 'Authors with affiliations'])\n",
        "\n",
        "def create_node_attributes(row):\n",
        "    \"\"\"Create node attributes from a DataFrame row.\"\"\"\n",
        "    authors = row['Authors'].split(',')\n",
        "    author_ids = row['Author(s) ID'].split(';')\n",
        "\n",
        "    attributes = {\n",
        "        'Authors': ';'.join(authors),\n",
        "        'Title': row['Title'],\n",
        "        'Year': row['Year'],\n",
        "        'Citations': row['Cited by'],\n",
        "        'Publisher': row['Publisher'],\n",
        "        'Author with affiliations': row['Authors with affiliations']\n",
        "    }\n",
        "\n",
        "    return [(author_id, attributes) for author_id in author_ids if author_id]\n",
        "\n",
        "def build_graph(data_frame):\n",
        "    \"\"\"Build a network graph from the DataFrame.\"\"\"\n",
        "    G = nx.Graph()\n",
        "\n",
        "    for _, row in data_frame.iterrows():\n",
        "        G.add_nodes_from(create_node_attributes(row))\n",
        "\n",
        "    return G\n",
        "\n",
        "# Specify the file path\n",
        "csv_file_path = \"/content/drive/MyDrive/Colab Notebooks/Major Assignment3/data_scopus.csv\"\n",
        "\n",
        "# Load and preprocess the data\n",
        "df = load_and_preprocess_data(csv_file_path)\n",
        "\n",
        "# Build the network graph\n",
        "research_network = build_graph(df)\n",
        "\n",
        "# Display the graph\n",
        "print(research_network)\n",
        "\n",
        "json_output_path = \"/content/drive/MyDrive/Colab Notebooks/Major Assignment3/network.json\"\n",
        "with open(json_output_path, \"w\") as json_file:\n",
        "    json.dump(json_graph.node_link_data(research_network), json_file)\n"
      ]
    },
    {
      "cell_type": "code",
      "execution_count": null,
      "metadata": {
        "colab": {
          "base_uri": "https://localhost:8080/"
        },
        "id": "lZNbcNO12_nF",
        "outputId": "7fb96af3-508d-490e-882c-c78a6b705de1"
      },
      "outputs": [
        {
          "output_type": "stream",
          "name": "stdout",
          "text": [
            "Graph with 1553 nodes and 3049 edges\n"
          ]
        }
      ],
      "source": [
        "import networkx as nx\n",
        "import json\n",
        "import pandas as pd\n",
        "\n",
        "def extract_country_from_affiliations(affiliations):\n",
        "    \"\"\"Extract country information from affiliations.\"\"\"\n",
        "    first_affiliation = affiliations.split(';')[0].strip()\n",
        "    country = first_affiliation.split(',')[-1].strip()\n",
        "    return country\n",
        "\n",
        "# Define the JSON file path\n",
        "json_path = '/content/drive/MyDrive/Colab Notebooks/Major Assignment3/network.json'\n",
        "\n",
        "# Load data from the JSON file\n",
        "with open(json_path, 'r') as json_file:\n",
        "    json_data = json.load(json_file)\n",
        "\n",
        "# Create a new graph\n",
        "research_graph = nx.Graph()\n",
        "\n",
        "def add_nodes_from_data(data):\n",
        "    \"\"\"Add nodes to the graph based on the provided data.\"\"\"\n",
        "    for node_data in data['nodes']:\n",
        "        node_id = node_data.get('id')\n",
        "        authors = node_data.get('Authors')\n",
        "        title = node_data.get('Title')\n",
        "        year = node_data.get('Year')\n",
        "        citations = node_data.get('Citations')\n",
        "        publisher = node_data.get('Publisher')\n",
        "\n",
        "        affiliations = str(node_data.get('Author with affiliations'))\n",
        "        country = extract_country_from_affiliations(affiliations)\n",
        "\n",
        "        research_graph.add_node(\n",
        "            node_id,\n",
        "            authors=authors,\n",
        "            title=title,\n",
        "            year=year,\n",
        "            citations=citations,\n",
        "            publisher=publisher,\n",
        "            affiliations=affiliations,\n",
        "            country=country\n",
        "        )\n",
        "\n",
        "# Add nodes (publications) to the graph with attributes\n",
        "add_nodes_from_data(json_data)\n",
        "\n",
        "# Identify clusters based on authors' countries\n",
        "clusters = list(nx.connected_components(research_graph))\n",
        "\n",
        "# Assign classes to each cluster\n",
        "class_mapping = {node: idx for idx, cluster in enumerate(clusters) for node in cluster}\n",
        "nx.set_node_attributes(research_graph, class_mapping, 'class')\n",
        "\n",
        "# Assuming df is the DataFrame from the previous code snippet\n",
        "# Create a dictionary to store co-authorship relationships\n",
        "for _, row in df.iterrows():\n",
        "    authors = row['Author(s) ID'].split(';')\n",
        "    for i in range(len(authors)):\n",
        "        for j in range(i + 1, len(authors)):\n",
        "            if authors[i] != \"\" and authors[j] != \"\":\n",
        "                research_graph.add_edge(authors[i], authors[j])\n",
        "\n",
        "# Display the graph\n",
        "print(research_graph)\n",
        "\n",
        "# Save the data as a JSON file\n",
        "coauthorship_data = {\n",
        "    'nodes': [{'id': node, **research_graph.nodes[node]} for node in research_graph.nodes()],\n",
        "    'links': [{'source': source, 'target': target} for source, target in research_graph.edges()]\n",
        "}\n",
        "\n",
        "output_json_path = \"/content/drive/MyDrive/Colab Notebooks/Major Assignment3/author.json\"\n",
        "with open(output_json_path, \"w\") as output_file:\n",
        "    json.dump(coauthorship_data, output_file)"
      ]
    },
    {
      "cell_type": "code",
      "execution_count": null,
      "metadata": {
        "id": "cIwWOoC7b7NI"
      },
      "outputs": [],
      "source": []
    }
  ],
  "metadata": {
    "colab": {
      "provenance": []
    },
    "kernelspec": {
      "display_name": "Python 3",
      "name": "python3"
    },
    "language_info": {
      "name": "python"
    }
  },
  "nbformat": 4,
  "nbformat_minor": 0
}